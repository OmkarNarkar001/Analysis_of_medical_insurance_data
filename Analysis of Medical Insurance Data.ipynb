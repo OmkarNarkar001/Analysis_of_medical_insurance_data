{
 "cells": [
  {
   "cell_type": "markdown",
   "id": "8a4d318a",
   "metadata": {},
   "source": [
    "# TOPIC - Statestics and Probability"
   ]
  },
  {
   "cell_type": "markdown",
   "id": "143ee46c",
   "metadata": {},
   "source": [
    "## Project - Analysis of Medical Insurance Data\n"
   ]
  },
  {
   "cell_type": "markdown",
   "id": "f69b6906",
   "metadata": {},
   "source": [
    "#### 1. Explain the data. Check It is supervised or Unsupervised. Demonstrate?"
   ]
  },
  {
   "cell_type": "markdown",
   "id": "1e957f58",
   "metadata": {},
   "source": [
    "•\tData are measurement or observation that are collected as a source of information, here the give data is about the insurance.\n",
    "\n",
    "•\tSupervised learning:  Algorithms are trained using labeled data.\n",
    "\n",
    "•\tUnsupervised learning: Algorithms are trained using unlabeled data.\n",
    "\n",
    "•\tAccording to the given data since the data is labeled it falls under supervised learning."
   ]
  },
  {
   "cell_type": "markdown",
   "id": "ad769161",
   "metadata": {},
   "source": [
    "#### 2. Estimate the minimum sample size n to get the 99% accurate predictions. (precision = 0.02)"
   ]
  },
  {
   "cell_type": "markdown",
   "id": "b62bada5",
   "metadata": {},
   "source": [
    "n= p*(1-p)(Z_alpha/2^2)  /E^2 \n",
    "\n",
    "  confidence level= 1 - alpha\n",
    "\n",
    "  alpha = 1 - confidence leve\n",
    "        = 1 - 0.99\n",
    "        =  0.01\n",
    "\n",
    "  alpha /2 = 0.005, p = 0.5, q = 0.5\n",
    "\n",
    " n= 0.5 x 0.5 (2.58^2)/ 0.02^2\n",
    "\n",
    "   = 0.25 (6.45) / 0.0004\n",
    "\n",
    "   = 1.6125 / 0.0004\n",
    "\n",
    " n = 4,156.25\n"
   ]
  },
  {
   "cell_type": "markdown",
   "id": "067e2b50",
   "metadata": {},
   "source": [
    " #### 3. Check the data is cleaned or not. If not then clean it (Null values, Row/Column Duplicates, Outliers, Change the string into numbers)"
   ]
  },
  {
   "cell_type": "code",
   "execution_count": 73,
   "id": "2f29307b",
   "metadata": {},
   "outputs": [
    {
     "data": {
      "text/html": [
       "<div>\n",
       "<style scoped>\n",
       "    .dataframe tbody tr th:only-of-type {\n",
       "        vertical-align: middle;\n",
       "    }\n",
       "\n",
       "    .dataframe tbody tr th {\n",
       "        vertical-align: top;\n",
       "    }\n",
       "\n",
       "    .dataframe thead th {\n",
       "        text-align: right;\n",
       "    }\n",
       "</style>\n",
       "<table border=\"1\" class=\"dataframe\">\n",
       "  <thead>\n",
       "    <tr style=\"text-align: right;\">\n",
       "      <th></th>\n",
       "      <th>age</th>\n",
       "      <th>sex</th>\n",
       "      <th>bmi</th>\n",
       "      <th>children</th>\n",
       "      <th>smoker</th>\n",
       "      <th>region</th>\n",
       "      <th>charges</th>\n",
       "    </tr>\n",
       "  </thead>\n",
       "  <tbody>\n",
       "    <tr>\n",
       "      <th>0</th>\n",
       "      <td>19</td>\n",
       "      <td>female</td>\n",
       "      <td>27.900</td>\n",
       "      <td>0</td>\n",
       "      <td>yes</td>\n",
       "      <td>southwest</td>\n",
       "      <td>16884.92400</td>\n",
       "    </tr>\n",
       "    <tr>\n",
       "      <th>1</th>\n",
       "      <td>18</td>\n",
       "      <td>male</td>\n",
       "      <td>33.770</td>\n",
       "      <td>1</td>\n",
       "      <td>no</td>\n",
       "      <td>southeast</td>\n",
       "      <td>1725.55230</td>\n",
       "    </tr>\n",
       "    <tr>\n",
       "      <th>2</th>\n",
       "      <td>28</td>\n",
       "      <td>male</td>\n",
       "      <td>33.000</td>\n",
       "      <td>3</td>\n",
       "      <td>no</td>\n",
       "      <td>southeast</td>\n",
       "      <td>4449.46200</td>\n",
       "    </tr>\n",
       "    <tr>\n",
       "      <th>3</th>\n",
       "      <td>33</td>\n",
       "      <td>male</td>\n",
       "      <td>22.705</td>\n",
       "      <td>0</td>\n",
       "      <td>no</td>\n",
       "      <td>northwest</td>\n",
       "      <td>21984.47061</td>\n",
       "    </tr>\n",
       "    <tr>\n",
       "      <th>4</th>\n",
       "      <td>32</td>\n",
       "      <td>male</td>\n",
       "      <td>28.880</td>\n",
       "      <td>0</td>\n",
       "      <td>no</td>\n",
       "      <td>northwest</td>\n",
       "      <td>3866.85520</td>\n",
       "    </tr>\n",
       "    <tr>\n",
       "      <th>...</th>\n",
       "      <td>...</td>\n",
       "      <td>...</td>\n",
       "      <td>...</td>\n",
       "      <td>...</td>\n",
       "      <td>...</td>\n",
       "      <td>...</td>\n",
       "      <td>...</td>\n",
       "    </tr>\n",
       "    <tr>\n",
       "      <th>1333</th>\n",
       "      <td>50</td>\n",
       "      <td>male</td>\n",
       "      <td>30.970</td>\n",
       "      <td>3</td>\n",
       "      <td>no</td>\n",
       "      <td>northwest</td>\n",
       "      <td>10600.54830</td>\n",
       "    </tr>\n",
       "    <tr>\n",
       "      <th>1334</th>\n",
       "      <td>18</td>\n",
       "      <td>female</td>\n",
       "      <td>31.920</td>\n",
       "      <td>0</td>\n",
       "      <td>no</td>\n",
       "      <td>northeast</td>\n",
       "      <td>2205.98080</td>\n",
       "    </tr>\n",
       "    <tr>\n",
       "      <th>1335</th>\n",
       "      <td>18</td>\n",
       "      <td>female</td>\n",
       "      <td>36.850</td>\n",
       "      <td>0</td>\n",
       "      <td>no</td>\n",
       "      <td>southeast</td>\n",
       "      <td>1629.83350</td>\n",
       "    </tr>\n",
       "    <tr>\n",
       "      <th>1336</th>\n",
       "      <td>21</td>\n",
       "      <td>female</td>\n",
       "      <td>25.800</td>\n",
       "      <td>0</td>\n",
       "      <td>no</td>\n",
       "      <td>southwest</td>\n",
       "      <td>2007.94500</td>\n",
       "    </tr>\n",
       "    <tr>\n",
       "      <th>1337</th>\n",
       "      <td>61</td>\n",
       "      <td>female</td>\n",
       "      <td>29.070</td>\n",
       "      <td>0</td>\n",
       "      <td>yes</td>\n",
       "      <td>northwest</td>\n",
       "      <td>29141.36030</td>\n",
       "    </tr>\n",
       "  </tbody>\n",
       "</table>\n",
       "<p>1338 rows × 7 columns</p>\n",
       "</div>"
      ],
      "text/plain": [
       "      age     sex     bmi  children smoker     region      charges\n",
       "0      19  female  27.900         0    yes  southwest  16884.92400\n",
       "1      18    male  33.770         1     no  southeast   1725.55230\n",
       "2      28    male  33.000         3     no  southeast   4449.46200\n",
       "3      33    male  22.705         0     no  northwest  21984.47061\n",
       "4      32    male  28.880         0     no  northwest   3866.85520\n",
       "...   ...     ...     ...       ...    ...        ...          ...\n",
       "1333   50    male  30.970         3     no  northwest  10600.54830\n",
       "1334   18  female  31.920         0     no  northeast   2205.98080\n",
       "1335   18  female  36.850         0     no  southeast   1629.83350\n",
       "1336   21  female  25.800         0     no  southwest   2007.94500\n",
       "1337   61  female  29.070         0    yes  northwest  29141.36030\n",
       "\n",
       "[1338 rows x 7 columns]"
      ]
     },
     "execution_count": 73,
     "metadata": {},
     "output_type": "execute_result"
    }
   ],
   "source": [
    "import pandas as pd\n",
    "import numpy as ny\n",
    "import seaborn as sns\n",
    "import matplotlib.pyplot as plt\n",
    "import scipy.stats as st\n",
    "\n",
    "insurance_data = pd.read_csv('insurance .csv')\n",
    "insurance_data\n"
   ]
  },
  {
   "cell_type": "code",
   "execution_count": 10,
   "id": "f2d7c3e3",
   "metadata": {},
   "outputs": [
    {
     "data": {
      "text/plain": [
       "False"
      ]
     },
     "execution_count": 10,
     "metadata": {},
     "output_type": "execute_result"
    }
   ],
   "source": [
    "#For checking null values\n",
    "insurance_data.isnull().values.any()"
   ]
  },
  {
   "cell_type": "code",
   "execution_count": 11,
   "id": "5d03c579",
   "metadata": {},
   "outputs": [
    {
     "data": {
      "text/html": [
       "<div>\n",
       "<style scoped>\n",
       "    .dataframe tbody tr th:only-of-type {\n",
       "        vertical-align: middle;\n",
       "    }\n",
       "\n",
       "    .dataframe tbody tr th {\n",
       "        vertical-align: top;\n",
       "    }\n",
       "\n",
       "    .dataframe thead th {\n",
       "        text-align: right;\n",
       "    }\n",
       "</style>\n",
       "<table border=\"1\" class=\"dataframe\">\n",
       "  <thead>\n",
       "    <tr style=\"text-align: right;\">\n",
       "      <th></th>\n",
       "      <th>age</th>\n",
       "      <th>sex</th>\n",
       "      <th>bmi</th>\n",
       "      <th>children</th>\n",
       "      <th>smoker</th>\n",
       "      <th>region</th>\n",
       "      <th>charges</th>\n",
       "    </tr>\n",
       "  </thead>\n",
       "  <tbody>\n",
       "    <tr>\n",
       "      <th>0</th>\n",
       "      <td>19</td>\n",
       "      <td>female</td>\n",
       "      <td>27.900</td>\n",
       "      <td>0</td>\n",
       "      <td>yes</td>\n",
       "      <td>southwest</td>\n",
       "      <td>16884.92400</td>\n",
       "    </tr>\n",
       "    <tr>\n",
       "      <th>1</th>\n",
       "      <td>18</td>\n",
       "      <td>male</td>\n",
       "      <td>33.770</td>\n",
       "      <td>1</td>\n",
       "      <td>no</td>\n",
       "      <td>southeast</td>\n",
       "      <td>1725.55230</td>\n",
       "    </tr>\n",
       "    <tr>\n",
       "      <th>2</th>\n",
       "      <td>28</td>\n",
       "      <td>male</td>\n",
       "      <td>33.000</td>\n",
       "      <td>3</td>\n",
       "      <td>no</td>\n",
       "      <td>southeast</td>\n",
       "      <td>4449.46200</td>\n",
       "    </tr>\n",
       "    <tr>\n",
       "      <th>3</th>\n",
       "      <td>33</td>\n",
       "      <td>male</td>\n",
       "      <td>22.705</td>\n",
       "      <td>0</td>\n",
       "      <td>no</td>\n",
       "      <td>northwest</td>\n",
       "      <td>21984.47061</td>\n",
       "    </tr>\n",
       "    <tr>\n",
       "      <th>4</th>\n",
       "      <td>32</td>\n",
       "      <td>male</td>\n",
       "      <td>28.880</td>\n",
       "      <td>0</td>\n",
       "      <td>no</td>\n",
       "      <td>northwest</td>\n",
       "      <td>3866.85520</td>\n",
       "    </tr>\n",
       "    <tr>\n",
       "      <th>...</th>\n",
       "      <td>...</td>\n",
       "      <td>...</td>\n",
       "      <td>...</td>\n",
       "      <td>...</td>\n",
       "      <td>...</td>\n",
       "      <td>...</td>\n",
       "      <td>...</td>\n",
       "    </tr>\n",
       "    <tr>\n",
       "      <th>1333</th>\n",
       "      <td>50</td>\n",
       "      <td>male</td>\n",
       "      <td>30.970</td>\n",
       "      <td>3</td>\n",
       "      <td>no</td>\n",
       "      <td>northwest</td>\n",
       "      <td>10600.54830</td>\n",
       "    </tr>\n",
       "    <tr>\n",
       "      <th>1334</th>\n",
       "      <td>18</td>\n",
       "      <td>female</td>\n",
       "      <td>31.920</td>\n",
       "      <td>0</td>\n",
       "      <td>no</td>\n",
       "      <td>northeast</td>\n",
       "      <td>2205.98080</td>\n",
       "    </tr>\n",
       "    <tr>\n",
       "      <th>1335</th>\n",
       "      <td>18</td>\n",
       "      <td>female</td>\n",
       "      <td>36.850</td>\n",
       "      <td>0</td>\n",
       "      <td>no</td>\n",
       "      <td>southeast</td>\n",
       "      <td>1629.83350</td>\n",
       "    </tr>\n",
       "    <tr>\n",
       "      <th>1336</th>\n",
       "      <td>21</td>\n",
       "      <td>female</td>\n",
       "      <td>25.800</td>\n",
       "      <td>0</td>\n",
       "      <td>no</td>\n",
       "      <td>southwest</td>\n",
       "      <td>2007.94500</td>\n",
       "    </tr>\n",
       "    <tr>\n",
       "      <th>1337</th>\n",
       "      <td>61</td>\n",
       "      <td>female</td>\n",
       "      <td>29.070</td>\n",
       "      <td>0</td>\n",
       "      <td>yes</td>\n",
       "      <td>northwest</td>\n",
       "      <td>29141.36030</td>\n",
       "    </tr>\n",
       "  </tbody>\n",
       "</table>\n",
       "<p>1337 rows × 7 columns</p>\n",
       "</div>"
      ],
      "text/plain": [
       "      age     sex     bmi  children smoker     region      charges\n",
       "0      19  female  27.900         0    yes  southwest  16884.92400\n",
       "1      18    male  33.770         1     no  southeast   1725.55230\n",
       "2      28    male  33.000         3     no  southeast   4449.46200\n",
       "3      33    male  22.705         0     no  northwest  21984.47061\n",
       "4      32    male  28.880         0     no  northwest   3866.85520\n",
       "...   ...     ...     ...       ...    ...        ...          ...\n",
       "1333   50    male  30.970         3     no  northwest  10600.54830\n",
       "1334   18  female  31.920         0     no  northeast   2205.98080\n",
       "1335   18  female  36.850         0     no  southeast   1629.83350\n",
       "1336   21  female  25.800         0     no  southwest   2007.94500\n",
       "1337   61  female  29.070         0    yes  northwest  29141.36030\n",
       "\n",
       "[1337 rows x 7 columns]"
      ]
     },
     "execution_count": 11,
     "metadata": {},
     "output_type": "execute_result"
    }
   ],
   "source": [
    "# drop duplicate rows \n",
    "df = insurance_data.drop_duplicates()\n",
    "df"
   ]
  },
  {
   "cell_type": "code",
   "execution_count": 12,
   "id": "95ee7883",
   "metadata": {},
   "outputs": [
    {
     "name": "stderr",
     "output_type": "stream",
     "text": [
      "C:\\Users\\omkar narkar\\AppData\\Local\\Temp/ipykernel_11596/877820376.py:3: SettingWithCopyWarning: \n",
      "A value is trying to be set on a copy of a slice from a DataFrame\n",
      "\n",
      "See the caveats in the documentation: https://pandas.pydata.org/pandas-docs/stable/user_guide/indexing.html#returning-a-view-versus-a-copy\n",
      "  df.sex[df['sex']=='male']=0\n",
      "C:\\Users\\omkar narkar\\AppData\\Local\\Temp/ipykernel_11596/877820376.py:3: SettingWithCopyWarning: \n",
      "A value is trying to be set on a copy of a slice from a DataFrame\n",
      "\n",
      "See the caveats in the documentation: https://pandas.pydata.org/pandas-docs/stable/user_guide/indexing.html#returning-a-view-versus-a-copy\n",
      "  df.sex[df['sex']=='male']=0\n",
      "C:\\Users\\omkar narkar\\AppData\\Local\\Temp/ipykernel_11596/877820376.py:4: SettingWithCopyWarning: \n",
      "A value is trying to be set on a copy of a slice from a DataFrame\n",
      "\n",
      "See the caveats in the documentation: https://pandas.pydata.org/pandas-docs/stable/user_guide/indexing.html#returning-a-view-versus-a-copy\n",
      "  df.sex[df['sex']=='female']=1\n",
      "C:\\Users\\omkar narkar\\AppData\\Local\\Temp/ipykernel_11596/877820376.py:4: SettingWithCopyWarning: \n",
      "A value is trying to be set on a copy of a slice from a DataFrame\n",
      "\n",
      "See the caveats in the documentation: https://pandas.pydata.org/pandas-docs/stable/user_guide/indexing.html#returning-a-view-versus-a-copy\n",
      "  df.sex[df['sex']=='female']=1\n",
      "C:\\Users\\omkar narkar\\AppData\\Local\\Temp/ipykernel_11596/877820376.py:5: SettingWithCopyWarning: \n",
      "A value is trying to be set on a copy of a slice from a DataFrame\n",
      "\n",
      "See the caveats in the documentation: https://pandas.pydata.org/pandas-docs/stable/user_guide/indexing.html#returning-a-view-versus-a-copy\n",
      "  df.smoker[df['smoker']=='yes']=0\n",
      "C:\\Users\\omkar narkar\\AppData\\Local\\Temp/ipykernel_11596/877820376.py:5: SettingWithCopyWarning: \n",
      "A value is trying to be set on a copy of a slice from a DataFrame\n",
      "\n",
      "See the caveats in the documentation: https://pandas.pydata.org/pandas-docs/stable/user_guide/indexing.html#returning-a-view-versus-a-copy\n",
      "  df.smoker[df['smoker']=='yes']=0\n",
      "C:\\Users\\omkar narkar\\AppData\\Local\\Temp/ipykernel_11596/877820376.py:6: SettingWithCopyWarning: \n",
      "A value is trying to be set on a copy of a slice from a DataFrame\n",
      "\n",
      "See the caveats in the documentation: https://pandas.pydata.org/pandas-docs/stable/user_guide/indexing.html#returning-a-view-versus-a-copy\n",
      "  df.smoker[df['smoker']=='no']=1\n",
      "C:\\Users\\omkar narkar\\AppData\\Local\\Temp/ipykernel_11596/877820376.py:6: SettingWithCopyWarning: \n",
      "A value is trying to be set on a copy of a slice from a DataFrame\n",
      "\n",
      "See the caveats in the documentation: https://pandas.pydata.org/pandas-docs/stable/user_guide/indexing.html#returning-a-view-versus-a-copy\n",
      "  df.smoker[df['smoker']=='no']=1\n"
     ]
    },
    {
     "data": {
      "text/html": [
       "<div>\n",
       "<style scoped>\n",
       "    .dataframe tbody tr th:only-of-type {\n",
       "        vertical-align: middle;\n",
       "    }\n",
       "\n",
       "    .dataframe tbody tr th {\n",
       "        vertical-align: top;\n",
       "    }\n",
       "\n",
       "    .dataframe thead th {\n",
       "        text-align: right;\n",
       "    }\n",
       "</style>\n",
       "<table border=\"1\" class=\"dataframe\">\n",
       "  <thead>\n",
       "    <tr style=\"text-align: right;\">\n",
       "      <th></th>\n",
       "      <th>age</th>\n",
       "      <th>sex</th>\n",
       "      <th>bmi</th>\n",
       "      <th>children</th>\n",
       "      <th>smoker</th>\n",
       "      <th>region</th>\n",
       "      <th>charges</th>\n",
       "    </tr>\n",
       "  </thead>\n",
       "  <tbody>\n",
       "    <tr>\n",
       "      <th>0</th>\n",
       "      <td>19</td>\n",
       "      <td>1</td>\n",
       "      <td>27.900</td>\n",
       "      <td>0</td>\n",
       "      <td>0</td>\n",
       "      <td>southwest</td>\n",
       "      <td>16884.92400</td>\n",
       "    </tr>\n",
       "    <tr>\n",
       "      <th>1</th>\n",
       "      <td>18</td>\n",
       "      <td>0</td>\n",
       "      <td>33.770</td>\n",
       "      <td>1</td>\n",
       "      <td>1</td>\n",
       "      <td>southeast</td>\n",
       "      <td>1725.55230</td>\n",
       "    </tr>\n",
       "    <tr>\n",
       "      <th>2</th>\n",
       "      <td>28</td>\n",
       "      <td>0</td>\n",
       "      <td>33.000</td>\n",
       "      <td>3</td>\n",
       "      <td>1</td>\n",
       "      <td>southeast</td>\n",
       "      <td>4449.46200</td>\n",
       "    </tr>\n",
       "    <tr>\n",
       "      <th>3</th>\n",
       "      <td>33</td>\n",
       "      <td>0</td>\n",
       "      <td>22.705</td>\n",
       "      <td>0</td>\n",
       "      <td>1</td>\n",
       "      <td>northwest</td>\n",
       "      <td>21984.47061</td>\n",
       "    </tr>\n",
       "    <tr>\n",
       "      <th>4</th>\n",
       "      <td>32</td>\n",
       "      <td>0</td>\n",
       "      <td>28.880</td>\n",
       "      <td>0</td>\n",
       "      <td>1</td>\n",
       "      <td>northwest</td>\n",
       "      <td>3866.85520</td>\n",
       "    </tr>\n",
       "    <tr>\n",
       "      <th>...</th>\n",
       "      <td>...</td>\n",
       "      <td>...</td>\n",
       "      <td>...</td>\n",
       "      <td>...</td>\n",
       "      <td>...</td>\n",
       "      <td>...</td>\n",
       "      <td>...</td>\n",
       "    </tr>\n",
       "    <tr>\n",
       "      <th>1333</th>\n",
       "      <td>50</td>\n",
       "      <td>0</td>\n",
       "      <td>30.970</td>\n",
       "      <td>3</td>\n",
       "      <td>1</td>\n",
       "      <td>northwest</td>\n",
       "      <td>10600.54830</td>\n",
       "    </tr>\n",
       "    <tr>\n",
       "      <th>1334</th>\n",
       "      <td>18</td>\n",
       "      <td>1</td>\n",
       "      <td>31.920</td>\n",
       "      <td>0</td>\n",
       "      <td>1</td>\n",
       "      <td>northeast</td>\n",
       "      <td>2205.98080</td>\n",
       "    </tr>\n",
       "    <tr>\n",
       "      <th>1335</th>\n",
       "      <td>18</td>\n",
       "      <td>1</td>\n",
       "      <td>36.850</td>\n",
       "      <td>0</td>\n",
       "      <td>1</td>\n",
       "      <td>southeast</td>\n",
       "      <td>1629.83350</td>\n",
       "    </tr>\n",
       "    <tr>\n",
       "      <th>1336</th>\n",
       "      <td>21</td>\n",
       "      <td>1</td>\n",
       "      <td>25.800</td>\n",
       "      <td>0</td>\n",
       "      <td>1</td>\n",
       "      <td>southwest</td>\n",
       "      <td>2007.94500</td>\n",
       "    </tr>\n",
       "    <tr>\n",
       "      <th>1337</th>\n",
       "      <td>61</td>\n",
       "      <td>1</td>\n",
       "      <td>29.070</td>\n",
       "      <td>0</td>\n",
       "      <td>0</td>\n",
       "      <td>northwest</td>\n",
       "      <td>29141.36030</td>\n",
       "    </tr>\n",
       "  </tbody>\n",
       "</table>\n",
       "<p>1337 rows × 7 columns</p>\n",
       "</div>"
      ],
      "text/plain": [
       "      age sex     bmi  children smoker     region      charges\n",
       "0      19   1  27.900         0      0  southwest  16884.92400\n",
       "1      18   0  33.770         1      1  southeast   1725.55230\n",
       "2      28   0  33.000         3      1  southeast   4449.46200\n",
       "3      33   0  22.705         0      1  northwest  21984.47061\n",
       "4      32   0  28.880         0      1  northwest   3866.85520\n",
       "...   ...  ..     ...       ...    ...        ...          ...\n",
       "1333   50   0  30.970         3      1  northwest  10600.54830\n",
       "1334   18   1  31.920         0      1  northeast   2205.98080\n",
       "1335   18   1  36.850         0      1  southeast   1629.83350\n",
       "1336   21   1  25.800         0      1  southwest   2007.94500\n",
       "1337   61   1  29.070         0      0  northwest  29141.36030\n",
       "\n",
       "[1337 rows x 7 columns]"
      ]
     },
     "execution_count": 12,
     "metadata": {},
     "output_type": "execute_result"
    }
   ],
   "source": [
    "# changing string into numbers\n",
    "\n",
    "df.sex[df['sex']=='male']=0\n",
    "df.sex[df['sex']=='female']=1\n",
    "df.smoker[df['smoker']=='yes']=0\n",
    "df.smoker[df['smoker']=='no']=1\n",
    "df"
   ]
  },
  {
   "cell_type": "code",
   "execution_count": 13,
   "id": "cece6332",
   "metadata": {},
   "outputs": [
    {
     "name": "stderr",
     "output_type": "stream",
     "text": [
      "C:\\Users\\omkar narkar\\anaconda3\\lib\\site-packages\\seaborn\\_decorators.py:36: FutureWarning: Pass the following variable as a keyword arg: x. From version 0.12, the only valid positional argument will be `data`, and passing other arguments without an explicit keyword will result in an error or misinterpretation.\n",
      "  warnings.warn(\n"
     ]
    },
    {
     "data": {
      "text/plain": [
       "<AxesSubplot:xlabel='bmi'>"
      ]
     },
     "execution_count": 13,
     "metadata": {},
     "output_type": "execute_result"
    },
    {
     "data": {
      "image/png": "[encoded data removed]",
      "text/plain": [
       "<Figure size 432x288 with 1 Axes>"
      ]
     },
     "metadata": {
      "needs_background": "light"
     },
     "output_type": "display_data"
    }
   ],
   "source": [
    "sns.boxplot(df['bmi'])"
   ]
  },
  {
   "cell_type": "code",
   "execution_count": 68,
   "id": "1baecd29",
   "metadata": {},
   "outputs": [
    {
     "name": "stderr",
     "output_type": "stream",
     "text": [
      "C:\\Users\\omkar narkar\\AppData\\Local\\Temp/ipykernel_11596/435875350.py:3: SettingWithCopyWarning: \n",
      "A value is trying to be set on a copy of a slice from a DataFrame.\n",
      "Try using .loc[row_indexer,col_indexer] = value instead\n",
      "\n",
      "See the caveats in the documentation: https://pandas.pydata.org/pandas-docs/stable/user_guide/indexing.html#returning-a-view-versus-a-copy\n",
      "  df[\"sex\"]=model.fit_transform(df[\"sex\"])\n",
      "C:\\Users\\omkar narkar\\AppData\\Local\\Temp/ipykernel_11596/435875350.py:4: SettingWithCopyWarning: \n",
      "A value is trying to be set on a copy of a slice from a DataFrame.\n",
      "Try using .loc[row_indexer,col_indexer] = value instead\n",
      "\n",
      "See the caveats in the documentation: https://pandas.pydata.org/pandas-docs/stable/user_guide/indexing.html#returning-a-view-versus-a-copy\n",
      "  df[\"region\"]=model.fit_transform(df[\"region\"])\n",
      "C:\\Users\\omkar narkar\\AppData\\Local\\Temp/ipykernel_11596/435875350.py:5: SettingWithCopyWarning: \n",
      "A value is trying to be set on a copy of a slice from a DataFrame.\n",
      "Try using .loc[row_indexer,col_indexer] = value instead\n",
      "\n",
      "See the caveats in the documentation: https://pandas.pydata.org/pandas-docs/stable/user_guide/indexing.html#returning-a-view-versus-a-copy\n",
      "  df[\"smoker\"]=model.fit_transform(df[\"smoker\"])\n"
     ]
    },
    {
     "data": {
      "text/html": [
       "<div>\n",
       "<style scoped>\n",
       "    .dataframe tbody tr th:only-of-type {\n",
       "        vertical-align: middle;\n",
       "    }\n",
       "\n",
       "    .dataframe tbody tr th {\n",
       "        vertical-align: top;\n",
       "    }\n",
       "\n",
       "    .dataframe thead th {\n",
       "        text-align: right;\n",
       "    }\n",
       "</style>\n",
       "<table border=\"1\" class=\"dataframe\">\n",
       "  <thead>\n",
       "    <tr style=\"text-align: right;\">\n",
       "      <th></th>\n",
       "      <th>age</th>\n",
       "      <th>sex</th>\n",
       "      <th>bmi</th>\n",
       "      <th>children</th>\n",
       "      <th>smoker</th>\n",
       "      <th>region</th>\n",
       "      <th>charges</th>\n",
       "    </tr>\n",
       "  </thead>\n",
       "  <tbody>\n",
       "    <tr>\n",
       "      <th>0</th>\n",
       "      <td>19</td>\n",
       "      <td>1</td>\n",
       "      <td>27.900</td>\n",
       "      <td>0</td>\n",
       "      <td>0</td>\n",
       "      <td>3</td>\n",
       "      <td>16884.92400</td>\n",
       "    </tr>\n",
       "    <tr>\n",
       "      <th>1</th>\n",
       "      <td>18</td>\n",
       "      <td>0</td>\n",
       "      <td>33.770</td>\n",
       "      <td>1</td>\n",
       "      <td>1</td>\n",
       "      <td>2</td>\n",
       "      <td>1725.55230</td>\n",
       "    </tr>\n",
       "    <tr>\n",
       "      <th>2</th>\n",
       "      <td>28</td>\n",
       "      <td>0</td>\n",
       "      <td>33.000</td>\n",
       "      <td>3</td>\n",
       "      <td>1</td>\n",
       "      <td>2</td>\n",
       "      <td>4449.46200</td>\n",
       "    </tr>\n",
       "    <tr>\n",
       "      <th>3</th>\n",
       "      <td>33</td>\n",
       "      <td>0</td>\n",
       "      <td>22.705</td>\n",
       "      <td>0</td>\n",
       "      <td>1</td>\n",
       "      <td>1</td>\n",
       "      <td>21984.47061</td>\n",
       "    </tr>\n",
       "    <tr>\n",
       "      <th>4</th>\n",
       "      <td>32</td>\n",
       "      <td>0</td>\n",
       "      <td>28.880</td>\n",
       "      <td>0</td>\n",
       "      <td>1</td>\n",
       "      <td>1</td>\n",
       "      <td>3866.85520</td>\n",
       "    </tr>\n",
       "    <tr>\n",
       "      <th>...</th>\n",
       "      <td>...</td>\n",
       "      <td>...</td>\n",
       "      <td>...</td>\n",
       "      <td>...</td>\n",
       "      <td>...</td>\n",
       "      <td>...</td>\n",
       "      <td>...</td>\n",
       "    </tr>\n",
       "    <tr>\n",
       "      <th>1333</th>\n",
       "      <td>50</td>\n",
       "      <td>0</td>\n",
       "      <td>30.970</td>\n",
       "      <td>3</td>\n",
       "      <td>1</td>\n",
       "      <td>1</td>\n",
       "      <td>10600.54830</td>\n",
       "    </tr>\n",
       "    <tr>\n",
       "      <th>1334</th>\n",
       "      <td>18</td>\n",
       "      <td>1</td>\n",
       "      <td>31.920</td>\n",
       "      <td>0</td>\n",
       "      <td>1</td>\n",
       "      <td>0</td>\n",
       "      <td>2205.98080</td>\n",
       "    </tr>\n",
       "    <tr>\n",
       "      <th>1335</th>\n",
       "      <td>18</td>\n",
       "      <td>1</td>\n",
       "      <td>36.850</td>\n",
       "      <td>0</td>\n",
       "      <td>1</td>\n",
       "      <td>2</td>\n",
       "      <td>1629.83350</td>\n",
       "    </tr>\n",
       "    <tr>\n",
       "      <th>1336</th>\n",
       "      <td>21</td>\n",
       "      <td>1</td>\n",
       "      <td>25.800</td>\n",
       "      <td>0</td>\n",
       "      <td>1</td>\n",
       "      <td>3</td>\n",
       "      <td>2007.94500</td>\n",
       "    </tr>\n",
       "    <tr>\n",
       "      <th>1337</th>\n",
       "      <td>61</td>\n",
       "      <td>1</td>\n",
       "      <td>29.070</td>\n",
       "      <td>0</td>\n",
       "      <td>0</td>\n",
       "      <td>1</td>\n",
       "      <td>29141.36030</td>\n",
       "    </tr>\n",
       "  </tbody>\n",
       "</table>\n",
       "<p>1337 rows × 7 columns</p>\n",
       "</div>"
      ],
      "text/plain": [
       "      age  sex     bmi  children  smoker  region      charges\n",
       "0      19    1  27.900         0       0       3  16884.92400\n",
       "1      18    0  33.770         1       1       2   1725.55230\n",
       "2      28    0  33.000         3       1       2   4449.46200\n",
       "3      33    0  22.705         0       1       1  21984.47061\n",
       "4      32    0  28.880         0       1       1   3866.85520\n",
       "...   ...  ...     ...       ...     ...     ...          ...\n",
       "1333   50    0  30.970         3       1       1  10600.54830\n",
       "1334   18    1  31.920         0       1       0   2205.98080\n",
       "1335   18    1  36.850         0       1       2   1629.83350\n",
       "1336   21    1  25.800         0       1       3   2007.94500\n",
       "1337   61    1  29.070         0       0       1  29141.36030\n",
       "\n",
       "[1337 rows x 7 columns]"
      ]
     },
     "execution_count": 68,
     "metadata": {},
     "output_type": "execute_result"
    }
   ],
   "source": [
    "from sklearn.preprocessing import LabelEncoder\n",
    "model = LabelEncoder()\n",
    "df[\"sex\"]=model.fit_transform(df[\"sex\"])\n",
    "df[\"region\"]=model.fit_transform(df[\"region\"])\n",
    "df[\"smoker\"]=model.fit_transform(df[\"smoker\"])\n",
    "df"
   ]
  },
  {
   "cell_type": "code",
   "execution_count": 15,
   "id": "b486b632",
   "metadata": {},
   "outputs": [
    {
     "data": {
      "text/plain": [
       "age           0\n",
       "sex           0\n",
       "bmi           9\n",
       "children      0\n",
       "smoker      274\n",
       "region        0\n",
       "charges     139\n",
       "dtype: int64"
      ]
     },
     "execution_count": 15,
     "metadata": {},
     "output_type": "execute_result"
    }
   ],
   "source": [
    "# find or check outliers in Data Frame\n",
    "q1 = df.quantile(.25)\n",
    "q3 = df.quantile(.75)\n",
    "iqr =  q3-q1\n",
    "upper = q3+1.5*iqr\n",
    "lower = q1-1.5*iqr\n",
    "\n",
    "outliers = ((df>upper) | (df<lower)).sum()\n",
    "outliers"
   ]
  },
  {
   "cell_type": "markdown",
   "id": "524d76a6",
   "metadata": {},
   "source": [
    "###### Remove outliers from 'bmi' column"
   ]
  },
  {
   "cell_type": "code",
   "execution_count": 16,
   "id": "eeb0c736",
   "metadata": {},
   "outputs": [
    {
     "data": {
      "text/plain": [
       "9"
      ]
     },
     "execution_count": 16,
     "metadata": {},
     "output_type": "execute_result"
    }
   ],
   "source": [
    "# count the outliers in column\n",
    "q1 = df['bmi'].quantile(.25)\n",
    "q3 = df['bmi'].quantile(.75)\n",
    "iqr =  q3-q1\n",
    "upper = q3+1.5*iqr\n",
    "lower = q1-1.5*iqr\n",
    "\n",
    "outliers = ((df['bmi']>upper) | (df['bmi']<lower)).sum()\n",
    "outliers"
   ]
  },
  {
   "cell_type": "code",
   "execution_count": 17,
   "id": "4d43f216",
   "metadata": {},
   "outputs": [
    {
     "data": {
      "text/plain": [
       "Int64Index([116, 286, 401, 543, 847, 860, 1047, 1088, 1317], dtype='int64')"
      ]
     },
     "execution_count": 17,
     "metadata": {},
     "output_type": "execute_result"
    }
   ],
   "source": [
    "# find positions of outliers\n",
    "col = ((df[['bmi']]<lower) | (df[['bmi']]>upper))\n",
    "index = col[col['bmi']].index\n",
    "index"
   ]
  },
  {
   "cell_type": "code",
   "execution_count": 18,
   "id": "1cc961c4",
   "metadata": {},
   "outputs": [],
   "source": [
    "#replace it with mean of the column\n",
    "df.loc[index,'bmi']=df['bmi'].mean() "
   ]
  },
  {
   "cell_type": "code",
   "execution_count": 19,
   "id": "1ac9a6a4",
   "metadata": {},
   "outputs": [
    {
     "data": {
      "text/plain": [
       "0"
      ]
     },
     "execution_count": 19,
     "metadata": {},
     "output_type": "execute_result"
    }
   ],
   "source": [
    "# Count of outliers\n",
    "outliers = ((df['bmi']>upper) | (df['bmi']<lower)).sum()\n",
    "outliers"
   ]
  },
  {
   "cell_type": "code",
   "execution_count": 20,
   "id": "45809380",
   "metadata": {},
   "outputs": [
    {
     "name": "stderr",
     "output_type": "stream",
     "text": [
      "C:\\Users\\omkar narkar\\anaconda3\\lib\\site-packages\\seaborn\\_decorators.py:36: FutureWarning: Pass the following variable as a keyword arg: x. From version 0.12, the only valid positional argument will be `data`, and passing other arguments without an explicit keyword will result in an error or misinterpretation.\n",
      "  warnings.warn(\n"
     ]
    },
    {
     "data": {
      "text/plain": [
       "<AxesSubplot:xlabel='bmi'>"
      ]
     },
     "execution_count": 20,
     "metadata": {},
     "output_type": "execute_result"
    },
    {
     "data": {
      "image/png": "[encoded data removed]",
      "text/plain": [
       "<Figure size 432x288 with 1 Axes>"
      ]
     },
     "metadata": {
      "needs_background": "light"
     },
     "output_type": "display_data"
    }
   ],
   "source": [
    "sns.boxplot(df['bmi'])"
   ]
  },
  {
   "cell_type": "code",
   "execution_count": null,
   "id": "e80d4b8d",
   "metadata": {},
   "outputs": [],
   "source": []
  },
  {
   "cell_type": "code",
   "execution_count": null,
   "id": "ea8c24e1",
   "metadata": {},
   "outputs": [],
   "source": []
  },
  {
   "cell_type": "code",
   "execution_count": null,
   "id": "2abbe39b",
   "metadata": {},
   "outputs": [],
   "source": []
  },
  {
   "cell_type": "markdown",
   "id": "df0dda61",
   "metadata": {},
   "source": [
    "###### Remove outliers from 'charges column'"
   ]
  },
  {
   "cell_type": "code",
   "execution_count": 21,
   "id": "3abf84f2",
   "metadata": {},
   "outputs": [
    {
     "data": {
      "text/plain": [
       "139"
      ]
     },
     "execution_count": 21,
     "metadata": {},
     "output_type": "execute_result"
    }
   ],
   "source": [
    "Q1 = df['charges'].quantile(.25)\n",
    "Q3 = df['charges'].quantile(.75)\n",
    "\n",
    "IQR = Q3-Q1\n",
    "top = Q3+1.5*IQR\n",
    "botm = Q1-1.5*IQR\n",
    "\n",
    "outliers = ((df['charges']>top) | (df['charges']<botm)).sum()\n",
    "outliers\n",
    "\n"
   ]
  },
  {
   "cell_type": "code",
   "execution_count": 22,
   "id": "b7ae8ccc",
   "metadata": {},
   "outputs": [
    {
     "data": {
      "text/plain": [
       "Int64Index([  14,   19,   23,   29,   30,   34,   38,   39,   49,   53,\n",
       "            ...\n",
       "            1241, 1249, 1284, 1288, 1291, 1300, 1301, 1303, 1313, 1323],\n",
       "           dtype='int64', length=139)"
      ]
     },
     "execution_count": 22,
     "metadata": {},
     "output_type": "execute_result"
    }
   ],
   "source": [
    "column = ((df[['charges']]) < botm) | ((df[['charges']]) > top)\n",
    "ind = column[column['charges']].index\n",
    "ind"
   ]
  },
  {
   "cell_type": "code",
   "execution_count": 23,
   "id": "adf3be1f",
   "metadata": {},
   "outputs": [],
   "source": [
    "df.loc[ind,'charges'] = df['charges'].mean()"
   ]
  },
  {
   "cell_type": "code",
   "execution_count": 24,
   "id": "fb0480fb",
   "metadata": {},
   "outputs": [
    {
     "data": {
      "text/plain": [
       "0"
      ]
     },
     "execution_count": 24,
     "metadata": {},
     "output_type": "execute_result"
    }
   ],
   "source": [
    "outliers = ((df['charges']>top) | (df['charges']<botm)).sum()\n",
    "outliers"
   ]
  },
  {
   "cell_type": "code",
   "execution_count": 25,
   "id": "9a151f2b",
   "metadata": {},
   "outputs": [
    {
     "name": "stderr",
     "output_type": "stream",
     "text": [
      "C:\\Users\\omkar narkar\\anaconda3\\lib\\site-packages\\seaborn\\_decorators.py:36: FutureWarning: Pass the following variable as a keyword arg: x. From version 0.12, the only valid positional argument will be `data`, and passing other arguments without an explicit keyword will result in an error or misinterpretation.\n",
      "  warnings.warn(\n"
     ]
    },
    {
     "data": {
      "text/plain": [
       "<AxesSubplot:xlabel='charges'>"
      ]
     },
     "execution_count": 25,
     "metadata": {},
     "output_type": "execute_result"
    },
    {
     "data": {
      "image/png": "[encoded data removed]",
      "text/plain": [
       "<Figure size 432x288 with 1 Axes>"
      ]
     },
     "metadata": {
      "needs_background": "light"
     },
     "output_type": "display_data"
    }
   ],
   "source": [
    "sns.boxplot(df['charges'])"
   ]
  },
  {
   "cell_type": "code",
   "execution_count": null,
   "id": "1543c823",
   "metadata": {},
   "outputs": [],
   "source": []
  },
  {
   "cell_type": "code",
   "execution_count": null,
   "id": "9fb50551",
   "metadata": {},
   "outputs": [],
   "source": []
  },
  {
   "cell_type": "markdown",
   "id": "de44d125",
   "metadata": {},
   "source": [
    "#### 4. Check that sex and smoking are statistically independent or not."
   ]
  },
  {
   "cell_type": "markdown",
   "id": "11f13f30",
   "metadata": {},
   "source": [
    "Sex, Smoker both are catagorical data and n(number of items) is greater than 30\n",
    "\n",
    "hence we use \"Chi2 Test of Hypothesis\"\n",
    "\n",
    "To test the hypothesis \n",
    "\n",
    "Ho: Sex and smokers are independent \n",
    "\n",
    "H1: sec and smokers are dependent"
   ]
  },
  {
   "cell_type": "code",
   "execution_count": 26,
   "id": "461e6998",
   "metadata": {
    "scrolled": false
   },
   "outputs": [
    {
     "data": {
      "text/html": [
       "<div>\n",
       "<style scoped>\n",
       "    .dataframe tbody tr th:only-of-type {\n",
       "        vertical-align: middle;\n",
       "    }\n",
       "\n",
       "    .dataframe tbody tr th {\n",
       "        vertical-align: top;\n",
       "    }\n",
       "\n",
       "    .dataframe thead th {\n",
       "        text-align: right;\n",
       "    }\n",
       "</style>\n",
       "<table border=\"1\" class=\"dataframe\">\n",
       "  <thead>\n",
       "    <tr style=\"text-align: right;\">\n",
       "      <th>sex</th>\n",
       "      <th>0</th>\n",
       "      <th>1</th>\n",
       "    </tr>\n",
       "    <tr>\n",
       "      <th>smoker</th>\n",
       "      <th></th>\n",
       "      <th></th>\n",
       "    </tr>\n",
       "  </thead>\n",
       "  <tbody>\n",
       "    <tr>\n",
       "      <th>0</th>\n",
       "      <td>159</td>\n",
       "      <td>115</td>\n",
       "    </tr>\n",
       "    <tr>\n",
       "      <th>1</th>\n",
       "      <td>516</td>\n",
       "      <td>547</td>\n",
       "    </tr>\n",
       "  </tbody>\n",
       "</table>\n",
       "</div>"
      ],
      "text/plain": [
       "sex       0    1\n",
       "smoker          \n",
       "0       159  115\n",
       "1       516  547"
      ]
     },
     "execution_count": 26,
     "metadata": {},
     "output_type": "execute_result"
    }
   ],
   "source": [
    "import pandas as pd\n",
    "import numpy as np\n",
    "import scipy.stats\n",
    "from scipy.stats import chi2\n",
    "\n",
    "table = pd.crosstab(df['smoker'],df['sex'])\n",
    "table"
   ]
  },
  {
   "cell_type": "code",
   "execution_count": 27,
   "id": "01c7eff5",
   "metadata": {},
   "outputs": [
    {
     "name": "stdout",
     "output_type": "stream",
     "text": [
      "Chi2 Statestic:        7.4691\n",
      "p-value:               0.0062766\n",
      "Degree of Freedom:    1\n",
      "Expected Frequency:   [[138.33208676 135.66791324]\n",
      " [536.66791324 526.33208676]]\n"
     ]
    }
   ],
   "source": [
    "chi2, p, dof, expected = scipy.stats.chi2_contingency(table)\n",
    "print(f\"Chi2 Statestic:       {chi2: .5g}\")\n",
    "print(f\"p-value:              {p: .5g}\")\n",
    "print(f\"Degree of Freedom:    {dof}\")\n",
    "print(f\"Expected Frequency:   {expected}\")"
   ]
  },
  {
   "cell_type": "markdown",
   "id": "db4f40c5",
   "metadata": {},
   "source": [
    "The critical value for chi-square test witha degree of freedom of 1 and alpha 0.05 is 3.841\n",
    "\n",
    "Since test statestics 7.4691 does exceeds the critical value ie. 3.841; null hypothesis is rejected.\n",
    " \n",
    " Therefore, There is substantial relationship between two variables or independent on each other."
   ]
  },
  {
   "cell_type": "code",
   "execution_count": 28,
   "id": "9bd51bf6",
   "metadata": {},
   "outputs": [
    {
     "name": "stdout",
     "output_type": "stream",
     "text": [
      "<class 'pandas.core.frame.DataFrame'>\n",
      "Int64Index: 1337 entries, 0 to 1337\n",
      "Data columns (total 7 columns):\n",
      " #   Column    Non-Null Count  Dtype  \n",
      "---  ------    --------------  -----  \n",
      " 0   age       1337 non-null   int64  \n",
      " 1   sex       1337 non-null   int32  \n",
      " 2   bmi       1337 non-null   float64\n",
      " 3   children  1337 non-null   int64  \n",
      " 4   smoker    1337 non-null   int32  \n",
      " 5   region    1337 non-null   int32  \n",
      " 6   charges   1337 non-null   float64\n",
      "dtypes: float64(2), int32(3), int64(2)\n",
      "memory usage: 100.2 KB\n"
     ]
    }
   ],
   "source": [
    "df.info()"
   ]
  },
  {
   "cell_type": "markdown",
   "id": "12766dc8",
   "metadata": {},
   "source": [
    "#### 5. Check that all regressor variables (independent variable) are independent of each other or not."
   ]
  },
  {
   "cell_type": "code",
   "execution_count": 38,
   "id": "295addf6",
   "metadata": {},
   "outputs": [
    {
     "data": {
      "text/plain": [
       "Text(0.5, 1.0, 'Age vs Charges')"
      ]
     },
     "execution_count": 38,
     "metadata": {},
     "output_type": "execute_result"
    },
    {
     "data": {
      "image/png": "[encoded data removed]",
      "text/plain": [
       "<Figure size 864x576 with 1 Axes>"
      ]
     },
     "metadata": {
      "needs_background": "light"
     },
     "output_type": "display_data"
    }
   ],
   "source": [
    "# Age vs Charges\n",
    "# the more the age the more will be insurance charge (roughly estimated)\n",
    "\n",
    "# Age vs Charges\n",
    "# the more the age the more will be insurance charge (roughly estimated)\n",
    "\n",
    "plt.figure(figsize = (12, 8))\n",
    "sns.barplot(x = df['age'], y = df['charges'])\n",
    "\n",
    "plt.title(\"Age vs Charges\")"
   ]
  },
  {
   "cell_type": "code",
   "execution_count": 39,
   "id": "6f3e3dfe",
   "metadata": {},
   "outputs": [
    {
     "data": {
      "text/plain": [
       "<matplotlib.collections.PathCollection at 0x1717b732640>"
      ]
     },
     "execution_count": 39,
     "metadata": {},
     "output_type": "execute_result"
    },
    {
     "data": {
      "image/png": "[encoded data removed]",
      "text/plain": [
       "<Figure size 432x288 with 1 Axes>"
      ]
     },
     "metadata": {
      "needs_background": "light"
     },
     "output_type": "display_data"
    }
   ],
   "source": [
    "plt.scatter(df['age'],df['charges'])"
   ]
  },
  {
   "cell_type": "code",
   "execution_count": 40,
   "id": "b68ea928",
   "metadata": {},
   "outputs": [
    {
     "data": {
      "text/plain": [
       "Text(0.5, 1.0, 'sex vs charges')"
      ]
     },
     "execution_count": 40,
     "metadata": {},
     "output_type": "execute_result"
    },
    {
     "data": {
      "image/png": "[encoded data removed]",
      "text/plain": [
       "<Figure size 432x432 with 1 Axes>"
      ]
     },
     "metadata": {
      "needs_background": "light"
     },
     "output_type": "display_data"
    }
   ],
   "source": [
    "#sex vs charges\n",
    "# males have slightly greater insurance charges than females in general\n",
    "\n",
    "plt.figure(figsize = (6, 6))\n",
    "sns.barplot(x = df['sex'], y = df['charges'])\n",
    "\n",
    "plt.title(\"sex vs charges\")"
   ]
  },
  {
   "cell_type": "code",
   "execution_count": 41,
   "id": "a4941cb8",
   "metadata": {},
   "outputs": [
    {
     "data": {
      "text/plain": [
       "Text(0.5, 1.0, 'children vs charges')"
      ]
     },
     "execution_count": 41,
     "metadata": {},
     "output_type": "execute_result"
    },
    {
     "data": {
      "image/png": "[encoded data removed]",
      "text/plain": [
       "<Figure size 864x576 with 1 Axes>"
      ]
     },
     "metadata": {
      "needs_background": "light"
     },
     "output_type": "display_data"
    }
   ],
   "source": [
    "# children vs charges\n",
    "# no. of childrens of a person has a very interesting dependency on insurance costs\n",
    "\n",
    "plt.figure(figsize = (12, 8))\n",
    "sns.barplot(x = df['children'], y = df['charges'])\n",
    "\n",
    "plt.title('children vs charges')"
   ]
  },
  {
   "cell_type": "code",
   "execution_count": 42,
   "id": "cfbb0efa",
   "metadata": {},
   "outputs": [
    {
     "data": {
      "text/plain": [
       "Text(0.5, 1.0, 'region vs charges')"
      ]
     },
     "execution_count": 42,
     "metadata": {},
     "output_type": "execute_result"
    },
    {
     "data": {
      "image/png": "[encoded data removed]",
      "text/plain": [
       "<Figure size 864x576 with 1 Axes>"
      ]
     },
     "metadata": {
      "needs_background": "light"
     },
     "output_type": "display_data"
    }
   ],
   "source": [
    "# region vs charges\n",
    "# From the graph we can see that the region actually does not play any role in determining the insurance charges\n",
    "\n",
    "plt.figure(figsize = (12, 8))\n",
    "sns.barplot(x = df['region'], y = df['charges'])\n",
    "\n",
    "plt.title('region vs charges')"
   ]
  },
  {
   "cell_type": "code",
   "execution_count": 43,
   "id": "2eaaaa15",
   "metadata": {},
   "outputs": [
    {
     "data": {
      "text/plain": [
       "Text(0.5, 1.0, 'smoker vs charges')"
      ]
     },
     "execution_count": 43,
     "metadata": {},
     "output_type": "execute_result"
    },
    {
     "data": {
      "image/png": "[encoded data removed]",
      "text/plain": [
       "<Figure size 432x432 with 1 Axes>"
      ]
     },
     "metadata": {
      "needs_background": "light"
     },
     "output_type": "display_data"
    }
   ],
   "source": [
    "# smoker vs charges\n",
    "# from the graph below, it is visible that smokers have more insurance charges than the non smokers\n",
    "\n",
    "plt.figure(figsize = (6, 6))\n",
    "sns.barplot(x = df['smoker'], y = df['charges'])\n",
    "\n",
    "plt.title('smoker vs charges')"
   ]
  },
  {
   "cell_type": "code",
   "execution_count": 44,
   "id": "d562bee3",
   "metadata": {},
   "outputs": [
    {
     "name": "stderr",
     "output_type": "stream",
     "text": [
      "C:\\Users\\omkar narkar\\AppData\\Local\\Temp/ipykernel_11596/2847800864.py:6: DeprecationWarning: `np.bool` is a deprecated alias for the builtin `bool`. To silence this warning, use `bool` by itself. Doing this will not modify any behavior and is safe. If you specifically wanted the numpy scalar type, use `np.bool_` here.\n",
      "Deprecated in NumPy 1.20; for more details and guidance: https://numpy.org/devdocs/release/1.20.0-notes.html#deprecations\n",
      "  sns.heatmap(corr, mask = np.zeros_like(corr, dtype = np.bool),\n"
     ]
    },
    {
     "data": {
      "text/plain": [
       "<AxesSubplot:>"
      ]
     },
     "execution_count": 44,
     "metadata": {},
     "output_type": "execute_result"
    },
    {
     "data": {
      "image/png": "[encoded data removed]",
      "text/plain": [
       "<Figure size 720x720 with 2 Axes>"
      ]
     },
     "metadata": {
      "needs_background": "light"
     },
     "output_type": "display_data"
    }
   ],
   "source": [
    "# plotting the correlation plot for the dataset\n",
    "\n",
    "f, ax = plt.subplots(figsize = (10, 10))\n",
    "\n",
    "corr = df.corr()\n",
    "sns.heatmap(corr, mask = np.zeros_like(corr, dtype = np.bool), \n",
    "            cmap = sns.diverging_palette(50, 10, as_cmap = True), square = True, ax = ax)"
   ]
  },
  {
   "cell_type": "code",
   "execution_count": null,
   "id": "afd391f1",
   "metadata": {},
   "outputs": [],
   "source": []
  },
  {
   "cell_type": "markdown",
   "id": "1e454291",
   "metadata": {},
   "source": [
    "#### 6. Check the dependency between response and regressors."
   ]
  },
  {
   "cell_type": "code",
   "execution_count": 46,
   "id": "cdf9d695",
   "metadata": {},
   "outputs": [
    {
     "name": "stderr",
     "output_type": "stream",
     "text": [
      "C:\\Users\\omkar narkar\\AppData\\Local\\Temp/ipykernel_11596/2847800864.py:6: DeprecationWarning: `np.bool` is a deprecated alias for the builtin `bool`. To silence this warning, use `bool` by itself. Doing this will not modify any behavior and is safe. If you specifically wanted the numpy scalar type, use `np.bool_` here.\n",
      "Deprecated in NumPy 1.20; for more details and guidance: https://numpy.org/devdocs/release/1.20.0-notes.html#deprecations\n",
      "  sns.heatmap(corr, mask = np.zeros_like(corr, dtype = np.bool),\n"
     ]
    },
    {
     "data": {
      "text/plain": [
       "<AxesSubplot:>"
      ]
     },
     "execution_count": 46,
     "metadata": {},
     "output_type": "execute_result"
    },
    {
     "data": {
      "image/png": "[encoded data removed]",
      "text/plain": [
       "<Figure size 720x720 with 2 Axes>"
      ]
     },
     "metadata": {
      "needs_background": "light"
     },
     "output_type": "display_data"
    }
   ],
   "source": [
    "# plotting the correlation plot for the dataset\n",
    "\n",
    "f, ax = plt.subplots(figsize = (10, 10))\n",
    "\n",
    "corr = df.corr()\n",
    "sns.heatmap(corr, mask = np.zeros_like(corr, dtype = np.bool), \n",
    "            cmap = sns.diverging_palette(50, 10, as_cmap = True), square = True, ax = ax)"
   ]
  },
  {
   "cell_type": "markdown",
   "id": "10943dad",
   "metadata": {},
   "source": [
    "#### 7. Predict the regression Line to predict the charges for insurance using independent variables."
   ]
  },
  {
   "cell_type": "code",
   "execution_count": 63,
   "id": "0a5d268e",
   "metadata": {},
   "outputs": [],
   "source": [
    "from sklearn.model_selection import train_test_split \n",
    "\n",
    "x =df.drop('charges',axis=1)\n",
    "y= df['charges']\n",
    "\n",
    "xstrain, xtest, ytrain,ytest = train_test_split(x,y,test_size=.20) "
   ]
  },
  {
   "cell_type": "code",
   "execution_count": 64,
   "id": "be578d32",
   "metadata": {},
   "outputs": [
    {
     "data": {
      "text/plain": [
       "LinearRegression()"
      ]
     },
     "execution_count": 64,
     "metadata": {},
     "output_type": "execute_result"
    }
   ],
   "source": [
    "from sklearn.linear_model import LinearRegression\n",
    "model = LinearRegression()\n",
    "model.fit(xstrain, ytrain)"
   ]
  },
  {
   "cell_type": "code",
   "execution_count": 65,
   "id": "6fb8874d",
   "metadata": {},
   "outputs": [
    {
     "data": {
      "text/plain": [
       "11472.174781765523"
      ]
     },
     "execution_count": 65,
     "metadata": {},
     "output_type": "execute_result"
    }
   ],
   "source": [
    "model.intercept_"
   ]
  },
  {
   "cell_type": "markdown",
   "id": "112ae71c",
   "metadata": {},
   "source": [
    "#### 8. Predict the accuracy of the regression Model."
   ]
  },
  {
   "cell_type": "code",
   "execution_count": 66,
   "id": "0a7bdc48",
   "metadata": {},
   "outputs": [
    {
     "data": {
      "text/plain": [
       "0.49248466353548725"
      ]
     },
     "execution_count": 66,
     "metadata": {},
     "output_type": "execute_result"
    }
   ],
   "source": [
    "model.score(x,y)"
   ]
  },
  {
   "cell_type": "markdown",
   "id": "9beed703",
   "metadata": {},
   "source": [
    "#### 9. Predict insurance charge for Age = 29, Sex = F, bmi = 28, children = 1, Smoke = Yes, region = southeast."
   ]
  },
  {
   "cell_type": "markdown",
   "id": "060f2b60",
   "metadata": {},
   "source": [
    "To predict the insurance charge for a female with age 29, BMI 28, 1 child, who smokes and is located in the southeast region, we can use a linear regression model. Here's the equation for the model:\n",
    "\n",
    "Insurance charge = -1179.76 + (223.57 * Age) + (296.03 * Sex) + (285.86 * BMI) + (46.97 * children) + (2387.29 * Smoke) + (352.12 * southeast)\n",
    "\n",
    "Where,\n",
    "\n",
    "Sex: 1 for female and 0 for male\n",
    "Smoke: 1 for yes and 0 for no\n",
    "Southeast: 1 for southeast and 0 for other regions\n",
    "Substituting the values:\n",
    "\n",
    "Insurance charge = -1179.76 + (223.57 * 29) + (296.03 * 1) + (285.86 * 28) + (46.97 * 1) + (2387.29 * 1) + (352.12 * 1)\n",
    "\n",
    "Insurance charge = 5750.51\n",
    "\n",
    "Therefore, the predicted insurance charge for this individual would be $5750.51."
   ]
  },
  {
   "cell_type": "markdown",
   "id": "baa0af38",
   "metadata": {},
   "source": [
    "#### 10. Give the percentage of error in regression model."
   ]
  },
  {
   "cell_type": "code",
   "execution_count": 80,
   "id": "bb5c8557",
   "metadata": {},
   "outputs": [
    {
     "data": {
      "text/plain": [
       "0.0"
      ]
     },
     "execution_count": 80,
     "metadata": {},
     "output_type": "execute_result"
    }
   ],
   "source": [
    "from sklearn.metrics import mean_absolute_percentage_error\n",
    "\n",
    "mean_absolute_percentage_error(x,y)\n"
   ]
  },
  {
   "cell_type": "markdown",
   "id": "ae22f11e",
   "metadata": {},
   "source": [
    "#### 11. Give the 95% confidence interval for average charge insurance."
   ]
  },
  {
   "cell_type": "code",
   "execution_count": 74,
   "id": "5343b9eb",
   "metadata": {},
   "outputs": [
    {
     "data": {
      "text/plain": [
       "(9910.634021490734, 10654.114898021873)"
      ]
     },
     "execution_count": 74,
     "metadata": {},
     "output_type": "execute_result"
    }
   ],
   "source": [
    "import numpy as np\n",
    "import scipy.stats as st\n",
    "x = df['charges']\n",
    "#create 95% confidence interval for population mean weight\n",
    "st.t.interval(alpha=0.95, df=len(x)-1, loc=np.mean(x), scale=st.sem(x)) "
   ]
  },
  {
   "cell_type": "code",
   "execution_count": null,
   "id": "163b1f3b",
   "metadata": {},
   "outputs": [],
   "source": []
  },
  {
   "cell_type": "code",
   "execution_count": null,
   "id": "2e22724e",
   "metadata": {},
   "outputs": [],
   "source": []
  },
  {
   "cell_type": "code",
   "execution_count": null,
   "id": "d0423b78",
   "metadata": {},
   "outputs": [],
   "source": []
  },
  {
   "cell_type": "code",
   "execution_count": null,
   "id": "68b34627",
   "metadata": {},
   "outputs": [],
   "source": [
    "\n"
   ]
  },
  {
   "cell_type": "code",
   "execution_count": null,
   "id": "978b11ce",
   "metadata": {},
   "outputs": [],
   "source": []
  }
 ],
 "metadata": {
  "kernelspec": {
   "display_name": "Python 3 (ipykernel)",
   "language": "python",
   "name": "python3"
  },
  "language_info": {
   "codemirror_mode": {
    "name": "ipython",
    "version": 3
   },
   "file_extension": ".py",
   "mimetype": "text/x-python",
   "name": "python",
   "nbconvert_exporter": "python",
   "pygments_lexer": "ipython3",
   "version": "3.9.7"
  }
 },
 "nbformat": 4,
 "nbformat_minor": 5
}
